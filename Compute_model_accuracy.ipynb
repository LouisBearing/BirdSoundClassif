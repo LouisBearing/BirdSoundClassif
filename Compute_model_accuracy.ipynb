{
 "cells": [
  {
   "cell_type": "code",
   "execution_count": 8,
   "id": "873d46c9-505b-4b9e-86f9-7c4ecf1028b0",
   "metadata": {},
   "outputs": [],
   "source": [
    "from run_detection import *\n",
    "from detr.nbm_datasets.image_dataset import *\n",
    "from torch.utils.data import DataLoader"
   ]
  },
  {
   "cell_type": "code",
   "execution_count": 2,
   "id": "9bae1407-f1b5-49d8-a9a9-b45a61ce9dfe",
   "metadata": {},
   "outputs": [],
   "source": [
    "# Load model\n",
    "mod_p = r'C:\\Users\\laeri\\NBM\\BirdSoundClassif\\models_detr\\detr_100q_bs20_r101dc5_nn'\n",
    "model, config = load_model(mod_p)"
   ]
  },
  {
   "cell_type": "code",
   "execution_count": 6,
   "id": "80aa2c2d-29d2-43a3-96df-dcb73078886d",
   "metadata": {},
   "outputs": [],
   "source": [
    "# Load dataset\n",
    "test_ds_p = r'C:\\Users\\laeri\\NBM\\data_2\\dataset\\test_files'\n",
    "test_ds = Img_dataset(test_ds_p)\n",
    "loader = DataLoader(test_ds, batch_size=10, collate_fn=collate_fn)"
   ]
  },
  {
   "cell_type": "code",
   "execution_count": 10,
   "id": "a59f7742-e13d-4817-b17f-29a920386be8",
   "metadata": {},
   "outputs": [],
   "source": [
    "for batch in loader:\n",
    "    break"
   ]
  },
  {
   "cell_type": "code",
   "execution_count": 11,
   "id": "e62ad530-ef2d-4aff-9bea-6e16afec7591",
   "metadata": {},
   "outputs": [],
   "source": [
    "img, neg_img, bb_coord, bird_ids, lengths = batch\n",
    "img, bb_coord = img.to(device), bb_coord.to(device)"
   ]
  },
  {
   "cell_type": "code",
   "execution_count": 13,
   "id": "bb20c178-9ea2-4802-b2ff-53455ed074cf",
   "metadata": {},
   "outputs": [
    {
     "data": {
      "text/plain": [
       "torch.Size([10, 375, 1024])"
      ]
     },
     "execution_count": 13,
     "metadata": {},
     "output_type": "execute_result"
    }
   ],
   "source": [
    "img.shape"
   ]
  },
  {
   "cell_type": "code",
   "execution_count": null,
   "id": "bbe795de-8116-4af7-814a-9a52b6b326aa",
   "metadata": {},
   "outputs": [],
   "source": []
  },
  {
   "cell_type": "code",
   "execution_count": null,
   "id": "ae7306e7-ff1f-4416-bf70-1d4557d79add",
   "metadata": {},
   "outputs": [],
   "source": []
  },
  {
   "cell_type": "code",
   "execution_count": null,
   "id": "4d911ac6-9f4a-490d-9823-cf7bf323b54b",
   "metadata": {},
   "outputs": [],
   "source": []
  }
 ],
 "metadata": {
  "kernelspec": {
   "display_name": "Python 3 (ipykernel)",
   "language": "python",
   "name": "python3"
  },
  "language_info": {
   "codemirror_mode": {
    "name": "ipython",
    "version": 3
   },
   "file_extension": ".py",
   "mimetype": "text/x-python",
   "name": "python",
   "nbconvert_exporter": "python",
   "pygments_lexer": "ipython3",
   "version": "3.10.14"
  }
 },
 "nbformat": 4,
 "nbformat_minor": 5
}
